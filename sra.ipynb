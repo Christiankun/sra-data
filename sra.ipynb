{
  "nbformat": 4,
  "nbformat_minor": 0,
  "metadata": {
    "colab": {
      "name": "sra.ipynb",
      "provenance": [],
      "collapsed_sections": []
    },
    "kernelspec": {
      "name": "python3",
      "display_name": "Python 3"
    },
    "language_info": {
      "name": "python"
    }
  },
  "cells": [
    {
      "cell_type": "markdown",
      "metadata": {
        "id": "YswBhkL6-p-j"
      },
      "source": [
        "#Utilizando o SRA-Toolkit\n",
        "\n",
        "Primeiramente vamos instalar essa ferramenta no terminal via apt-get\n",
        "\n",
        "`apt-get install sra-toolkit`"
      ]
    },
    {
      "cell_type": "code",
      "metadata": {
        "colab": {
          "base_uri": "https://localhost:8080/"
        },
        "id": "fxHwEKAp-7CW",
        "outputId": "ba893023-99f1-4024-e423-4ba3566dfe11"
      },
      "source": [
        "!apt-get install sra-toolkit"
      ],
      "execution_count": 15,
      "outputs": [
        {
          "output_type": "stream",
          "text": [
            "Reading package lists... Done\n",
            "Building dependency tree       \n",
            "Reading state information... Done\n",
            "sra-toolkit is already the newest version (2.8.2-5+dfsg-1).\n",
            "The following package was automatically installed and is no longer required:\n",
            "  libnvidia-common-460\n",
            "Use 'apt autoremove' to remove it.\n",
            "0 upgraded, 0 newly installed, 0 to remove and 34 not upgraded.\n"
          ],
          "name": "stdout"
        }
      ]
    },
    {
      "cell_type": "markdown",
      "metadata": {
        "id": "w3LMLUyyBe73"
      },
      "source": [
        "\n",
        "\n",
        "---\n",
        "\n",
        "\n",
        "\n",
        "Por algum motivo o repositório do Ubuntu não é atualizado com tanta frequência, então provavelmente instalar ele diretamente do repositório oficial é a melhor opção para obter a última versão e podermos utilizar o recursos novos como o **fasterq-dump**\n",
        "\n",
        "\n",
        "\n",
        "---\n",
        "\n"
      ]
    },
    {
      "cell_type": "markdown",
      "metadata": {
        "id": "6ldYNJdHCEKi"
      },
      "source": [
        "Caso tenha interesse em instalar via diretamente, siga esse mini-guia\n",
        "\n",
        "\n",
        "Instalação das dependências e configuração do PATH\n",
        "```\n",
        "\n",
        "#Dependencias\n",
        "sudo apt install -y wget libxml-libxml-perl \n",
        "\n",
        "#Baixando SRA-Toolkit\n",
        "wget https://ftp-trace.ncbi.nlm.nih.gov/sra/sdk/2.10.0/sratoolkit.2.10.0-ubuntu64.tar.gz -O /tmp/sratoolkit.tar.gz\n",
        "\n",
        "#Descompactando\n",
        "tar zxvf /tmp/sratoolkit.tar.gz -C /opt/ && rm /tmp/sratoolkit.tar.gz\n",
        "\n",
        "#Adicionando no PATH\n",
        "echo PATH='/opt/sratoolkit.2.10.0-ubuntu64/bin/:${PATH}' >> ~/.bashrc\n",
        "```\n",
        "\n"
      ]
    },
    {
      "cell_type": "code",
      "metadata": {
        "colab": {
          "base_uri": "https://localhost:8080/"
        },
        "id": "Yp5Ttb9O_Bhx",
        "outputId": "1c244dd4-4eea-419e-9b3e-597180da2791"
      },
      "source": [
        "# Para execução de um comando como o fastq-dump, posterior a instalação é só fazer a chamada do mesmo.\n",
        "\n",
        "!fastq-dump -h"
      ],
      "execution_count": 16,
      "outputs": [
        {
          "output_type": "stream",
          "text": [
            "\n",
            "Usage:\n",
            "  fastq-dump [options] <path> [<path>...]\n",
            "  fastq-dump [options] <accession>\n",
            "\n",
            "INPUT\n",
            "  -A|--accession <accession>       Replaces accession derived from <path> in \n",
            "                                   filename(s) and deflines (only for single \n",
            "                                   table dump) \n",
            "  --table <table-name>             Table name within cSRA object, default is \n",
            "                                   \"SEQUENCE\" \n",
            "\n",
            "PROCESSING\n",
            "\n",
            "Read Splitting                     Sequence data may be used in raw form or\n",
            "                                     split into individual reads\n",
            "  --split-spot                     Split spots into individual reads \n",
            "\n",
            "Full Spot Filters                  Applied to the full spot independently\n",
            "                                     of --split-spot\n",
            "  -N|--minSpotId <rowid>           Minimum spot id \n",
            "  -X|--maxSpotId <rowid>           Maximum spot id \n",
            "  --spot-groups <[list]>           Filter by SPOT_GROUP (member): name[,...] \n",
            "  -W|--clip                        Clip adapter sequences \n",
            "\n",
            "Common Filters                     Applied to spots when --split-spot is not\n",
            "                                     set, otherwise - to individual reads\n",
            "  -M|--minReadLen <len>            Filter by sequence length >= <len> \n",
            "  -R|--read-filter <[filter]>      Split into files by READ_FILTER value \n",
            "                                   optionally filter by value: \n",
            "                                   pass|reject|criteria|redacted \n",
            "  -E|--qual-filter                 Filter used in early 1000 Genomes data: no \n",
            "                                   sequences starting or ending with >= 10N \n",
            "  --qual-filter-1                  Filter used in current 1000 Genomes data \n",
            "\n",
            "Filters based on alignments        Filters are active when alignment\n",
            "                                     data are present\n",
            "  --aligned                        Dump only aligned sequences \n",
            "  --unaligned                      Dump only unaligned sequences \n",
            "  --aligned-region <name[:from-to]>  Filter by position on genome. Name can \n",
            "                                   either be accession.version (ex: \n",
            "                                   NC_000001.10) or file specific name (ex: \n",
            "                                   \"chr1\" or \"1\"). \"from\" and \"to\" are 1-based \n",
            "                                   coordinates \n",
            "  --matepair-distance <from-to|unknown>  Filter by distance between matepairs. \n",
            "                                   Use \"unknown\" to find matepairs split \n",
            "                                   between the references. Use from-to to limit \n",
            "                                   matepair distance on the same reference \n",
            "\n",
            "Filters for individual reads       Applied only with --split-spot set\n",
            "  --skip-technical                 Dump only biological reads \n",
            "\n",
            "OUTPUT\n",
            "  -O|--outdir <path>               Output directory, default is working \n",
            "                                   directory '.' ) \n",
            "  -Z|--stdout                      Output to stdout, all split data become \n",
            "                                   joined into single stream \n",
            "  --gzip                           Compress output using gzip \n",
            "  --bzip2                          Compress output using bzip2 \n",
            "\n",
            "Multiple File Options              Setting these options will produce more\n",
            "                                     than 1 file, each of which will be suffixed\n",
            "                                     according to splitting criteria.\n",
            "  --split-files                    Dump each read into separate file.Files \n",
            "                                   will receive suffix corresponding to read \n",
            "                                   number \n",
            "  --split-3                        Legacy 3-file splitting for mate-pairs: \n",
            "                                   First biological reads satisfying dumping \n",
            "                                   conditions are placed in files *_1.fastq and \n",
            "                                   *_2.fastq If only one biological read is \n",
            "                                   present it is placed in *.fastq Biological \n",
            "                                   reads and above are ignored. \n",
            "  -G|--spot-group                  Split into files by SPOT_GROUP (member name) \n",
            "  -R|--read-filter <[filter]>      Split into files by READ_FILTER value \n",
            "                                   optionally filter by value: \n",
            "                                   pass|reject|criteria|redacted \n",
            "  -T|--group-in-dirs               Split into subdirectories instead of files \n",
            "  -K|--keep-empty-files            Do not delete empty files \n",
            "\n",
            "FORMATTING\n",
            "\n",
            "Sequence\n",
            "  -C|--dumpcs <[cskey]>            Formats sequence using color space (default \n",
            "                                   for SOLiD),\"cskey\" may be specified for \n",
            "                                   translation \n",
            "  -B|--dumpbase                    Formats sequence using base space (default \n",
            "                                   for other than SOLiD). \n",
            "\n",
            "Quality\n",
            "  -Q|--offset <integer>            Offset to use for quality conversion, \n",
            "                                   default is 33 \n",
            "  --fasta <[line width]>           FASTA only, no qualities, optional line \n",
            "                                   wrap width (set to zero for no wrapping) \n",
            "  --suppress-qual-for-cskey        suppress quality-value for cskey \n",
            "\n",
            "Defline\n",
            "  -F|--origfmt                     Defline contains only original sequence name \n",
            "  -I|--readids                     Append read id after spot id as \n",
            "                                   'accession.spot.readid' on defline \n",
            "  --helicos                        Helicos style defline \n",
            "  --defline-seq <fmt>              Defline format specification for sequence. \n",
            "  --defline-qual <fmt>             Defline format specification for quality. \n",
            "                                   <fmt> is string of characters and/or \n",
            "                                   variables. The variables can be one of: $ac \n",
            "                                   - accession, $si spot id, $sn spot \n",
            "                                   name, $sg spot group (barcode), $sl spot \n",
            "                                   length in bases, $ri read number, $rn \n",
            "                                   read name, $rl read length in bases. '[]' \n",
            "                                   could be used for an optional output: if \n",
            "                                   all vars in [] yield empty values whole \n",
            "                                   group is not printed. Empty value is empty \n",
            "                                   string or for numeric variables. Ex: \n",
            "                                   @$sn[_$rn]/$ri '_$rn' is omitted if name \n",
            "                                   is empty\n",
            " \n",
            "OTHER:\n",
            "  --disable-multithreading         disable multithreading \n",
            "  -h|--help                        Output brief explanation of program usage \n",
            "  -V|--version                     Display the version of the program \n",
            "  -L|--log-level <level>           Logging level as number or enum string One \n",
            "                                   of (fatal|sys|int|err|warn|info) or (0-5) \n",
            "                                   Current/default is warn \n",
            "  -v|--verbose                     Increase the verbosity level of the program \n",
            "                                   Use multiple times for more verbosity \n",
            "  --ncbi_error_report              Control program execution environment \n",
            "                                   report generation (if implemented). One of \n",
            "                                   (never|error|always). Default is error \n",
            "  --legacy-report                  use legacy style 'Written spots' for tool \n",
            "\n",
            "fastq-dump : 2.8.2\n",
            "\n"
          ],
          "name": "stdout"
        }
      ]
    },
    {
      "cell_type": "markdown",
      "metadata": {
        "id": "MkXBNbPI_M6f"
      },
      "source": [
        "###Utilizando o comando fastq-dump e o código de acesso, dentre outros parâmetros para melhor filtragem.\n",
        "\n",
        "###Exemplo de entrada:\n",
        "\n",
        "`fastq-dump SRR12395090`"
      ]
    },
    {
      "cell_type": "markdown",
      "metadata": {
        "id": "EKV6xVX-ztkl"
      },
      "source": [
        "#Vamos ao [SRA-Explorer](https://sra-explorer.info/) \n",
        "\n",
        "Nesse site, vamos ter diversos campos\n",
        "\n",
        "No campo **Search for**, poderemos atribuir TAGS, BioProjects e ou chave de acesso da record, para fins práticos utilizaremos um exemplo com tamanho menor. \n",
        "\n",
        "**SRR12395090**\n",
        "\n",
        "\n",
        "\n",
        "---\n",
        "\n",
        "\n",
        "\n"
      ]
    },
    {
      "cell_type": "markdown",
      "metadata": {
        "id": "JWHxn6gB8lq3"
      },
      "source": [
        "**Clique** em **adicionar para coleção** e posteriormente a isso clique no carrinho (**Save datasets**)\n",
        "\n",
        "\n",
        "\n",
        "---\n",
        "\n",
        "\n"
      ]
    },
    {
      "cell_type": "markdown",
      "metadata": {
        "id": "GFf1xikL9hsz"
      },
      "source": [
        "No campo **saved datasets**, irão aparecer diversas formas de obtenção desses dados, vamos utilizar apenas a parte de **FastQ** que é o nosso foco, mas o site também apresenta opções como arquivos do formato **SRA** e **Metadata**.\n"
      ]
    },
    {
      "cell_type": "markdown",
      "metadata": {
        "id": "b6FFu0kF-CXu"
      },
      "source": [
        "Clicando na opção de **Raw FastQ Download URLs** vamos encontrar o seguinte comando:\n",
        "\n",
        "`ftp://ftp.sra.ebi.ac.uk/vol1/fastq/SRR123/090/SRR12395090/SRR12395090_1.fastq.gz`\n"
      ]
    },
    {
      "cell_type": "markdown",
      "metadata": {
        "id": "Je1D22cE-OBU"
      },
      "source": [
        "Executando este comando, estaremos utilizando o protocolo ftp para efetuar o download diretamente pelo servidor."
      ]
    },
    {
      "cell_type": "markdown",
      "metadata": {
        "id": "QqlDyulE-cYD"
      },
      "source": [
        "Clicando no campo: **Aspera commands for downloading FastQ files**\n",
        "\n",
        "Para a utilização do script gerado para o Aspera uma instalação prévia do programa é necessária. "
      ]
    },
    {
      "cell_type": "markdown",
      "metadata": {
        "id": "duDiTKCHATNG"
      },
      "source": [
        "Aqui então seguem as instruções necessárias para utilização do Aspera Connect que é o programa que vamos utilizar para baixar o banco.\n",
        "\n",
        "\n",
        "\n",
        "```\n",
        "# Comando para baixar o aspera connect, https://www.ibm.com/aspera/connect/ versão Linux.\n",
        "\n",
        "wget https://d3gcli72yxqn2z.cloudfront.net/connect_latest/v4/bin/ibm-aspera-connect-3.11.2.63-linux-g2.12-64.tar.gz  -O /tmp/asperaconnect.tar.gz\n",
        "\n",
        "# Descompactando arquivo\n",
        "tar zxvf /tmp/asperaconnect.tar.gz -C /opt/ && rm /tmp/asperaconnect.tar.gz\n",
        "\n",
        "# Instalando\n",
        "\n",
        "sh aspera.sh\n",
        "\n",
        "#Adicionando no PATH\n",
        "\n",
        "echo PATH='/home/**USERNAME**/.aspera/connect/bin/:${PATH}' >> ~/.bashrc\n",
        "```\n",
        "\n"
      ]
    },
    {
      "cell_type": "markdown",
      "metadata": {
        "id": "TrRB6KO6Ej7r"
      },
      "source": [
        "Finalizando a instalação do aspera, podemos chamar pelo terminal o comando **ascp** que ele irá retornar os parâmetros necessários.\n",
        "\n",
        "\n",
        "\n",
        "---\n",
        "\n",
        "\n"
      ]
    },
    {
      "cell_type": "markdown",
      "metadata": {
        "id": "8_HG9COME-S7"
      },
      "source": [
        "Voltando ao SRA-Explorer, podemos simplismente copiar o código gerado para rodar ou caso sejam muitos arquivos, baixar o script para rodar via terminal.\n",
        "\n",
        "\n",
        "\n",
        "```\n",
        "ascp -QT -l 300m -P33001 -i $HOME/.aspera/connect/etc/asperaweb_id_dsa.openssh era-fasp@fasp.sra.ebi.ac.uk:vol1/fastq/SRR123/090/SRR12395090/SRR12395090_1.fastq.gz .\n",
        "\n",
        "```\n",
        "\n"
      ]
    }
  ]
}